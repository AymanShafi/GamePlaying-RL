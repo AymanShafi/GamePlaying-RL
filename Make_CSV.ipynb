{
 "cells": [
  {
   "cell_type": "code",
   "execution_count": 94,
   "metadata": {},
   "outputs": [],
   "source": [
    "import numpy as np\n",
    "import pandas as pd\n",
    "import csv"
   ]
  },
  {
   "cell_type": "code",
   "execution_count": 113,
   "metadata": {},
   "outputs": [],
   "source": [
    "def make_csv(filename):\n",
    "    try:\n",
    "        with open(filename,'r') as f:\n",
    "            lines = f.readlines()\n",
    "    except: \n",
    "        print(\"No file!\")\n",
    "        return 0\n",
    "        \n",
    "    new_lines = []\n",
    "    for line in lines:\n",
    "        new_lines.append(line[14:])\n",
    "    \n",
    "    new_dict = []\n",
    "    for line in new_lines:\n",
    "        dict_row = {}\n",
    "        new_line = line.split(\",\")\n",
    "        #print(new_line)\n",
    "\n",
    "        no = new_line[0].split(\":\")\n",
    "        dict_row[no[0]] = no[1]\n",
    "\n",
    "        step = new_line[2].split(\":\")\n",
    "        dict_row[step[0]] = step[1]\n",
    "\n",
    "        reward = new_line[4].split(\":\")\n",
    "        dict_row[reward[0]] = reward[1];\n",
    "\n",
    "        loss = new_line[11].split(\":\")\n",
    "        dict_row[loss[0]] = loss[1];\n",
    "\n",
    "        abs_error = new_line[12].split(\":\")\n",
    "        dict_row[abs_error[0]] = abs_error[1];\n",
    "\n",
    "        q = new_line[13].split(\":\")\n",
    "        dict_row[q[0]] = q[1][:8];\n",
    "\n",
    "        #print(dict_row)\n",
    "        new_dict.append(dict_row)\n",
    "        \n",
    "    with open(filename+\".csv\", 'w') as f:\n",
    "        fieldnames = ['episode', ' episode steps', ' episode reward', ' loss', ' mean_absolute_error', ' mean_q']\n",
    "        writer = csv.DictWriter(f, fieldnames=fieldnames)\n",
    "\n",
    "        writer.writeheader()\n",
    "        for row in new_dict:\n",
    "            writer.writerow(row)\n",
    "\n",
    "    return 1"
   ]
  },
  {
   "cell_type": "code",
   "execution_count": 115,
   "metadata": {},
   "outputs": [
    {
     "name": "stdout",
     "output_type": "stream",
     "text": [
      "1\n"
     ]
    }
   ],
   "source": [
    "dqn = make_csv(\"DQN_metrics\")\n",
    "print(dqn)"
   ]
  },
  {
   "cell_type": "code",
   "execution_count": 116,
   "metadata": {},
   "outputs": [
    {
     "name": "stdout",
     "output_type": "stream",
     "text": [
      "1\n"
     ]
    }
   ],
   "source": [
    "duel = make_csv(\"Duel_DQN_metrics\")\n",
    "print(duel)"
   ]
  },
  {
   "cell_type": "code",
   "execution_count": 117,
   "metadata": {},
   "outputs": [
    {
     "name": "stdout",
     "output_type": "stream",
     "text": [
      "1\n"
     ]
    }
   ],
   "source": [
    "sarsa = make_csv(\"SARSA_metrics\")\n",
    "print(sarsa)"
   ]
  }
 ],
 "metadata": {
  "kernelspec": {
   "display_name": "Python 3",
   "language": "python",
   "name": "python3"
  },
  "language_info": {
   "codemirror_mode": {
    "name": "ipython",
    "version": 3
   },
   "file_extension": ".py",
   "mimetype": "text/x-python",
   "name": "python",
   "nbconvert_exporter": "python",
   "pygments_lexer": "ipython3",
   "version": "3.6.7"
  }
 },
 "nbformat": 4,
 "nbformat_minor": 2
}
